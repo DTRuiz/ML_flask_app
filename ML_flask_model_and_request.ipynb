{
 "cells": [
  {
   "cell_type": "markdown",
   "metadata": {},
   "source": [
    "### Model build\n",
    "Using the [Iris](https://en.wikipedia.org/wiki/Iris_flower_data_set) flower data set we will build a simple logistic regression model to predict the class of our inputs."
   ]
  },
  {
   "cell_type": "code",
   "execution_count": 1,
   "metadata": {
    "collapsed": false
   },
   "outputs": [
    {
     "name": "stdout",
     "output_type": "stream",
     "text": [
      "Training Accuracy: 0.96\n",
      "Prediciton results: [[0.91096981 0.0870271  0.00200309]]\n"
     ]
    }
   ],
   "source": [
    "from sklearn import datasets, linear_model\n",
    "\n",
    "iris = datasets.load_iris()\n",
    "X, Y = iris.data, iris.target\n",
    "\n",
    "logreg = linear_model.LogisticRegression()\n",
    "\n",
    "logreg.fit(X, Y)\n",
    "\n",
    "print(\"Training Accuracy:\", logreg.score(X, Y))\n",
    "print(\"Prediciton results:\", logreg.predict_proba([[5.2, 3.5, 2.4, 1.2]]))"
   ]
  },
  {
   "cell_type": "markdown",
   "metadata": {},
   "source": [
    "### Persisit the model\n",
    "\n",
    "We will use the [pickle module](https://docs.python.org/3/library/pickle.html) to serialize our sklearn model so that we may use in our Flask app to make real time predictions on new input data. We will later `load` this model in our Flask app."
   ]
  },
  {
   "cell_type": "code",
   "execution_count": null,
   "metadata": {
    "collapsed": true
   },
   "outputs": [],
   "source": [
    "import pickle\n",
    "\n",
    "pickle.dump(logreg, open('iris_lr_model.pkl', 'wb'))"
   ]
  },
  {
   "cell_type": "markdown",
   "metadata": {},
   "source": [
    "### Start our Flask app\n",
    "Go to our Flask app and start the api.\n",
    "\n",
    "To start the api run these 2 commands in your terminal within the directory:\n",
    "\n",
    "`$ export FLASK_APP=iris_app.py`\n",
    "\n",
    "`$ flask run`"
   ]
  },
  {
   "cell_type": "markdown",
   "metadata": {},
   "source": [
    "### Predict on our endpoint\n",
    "Now that our api is up and running we can use the [requests module](http://docs.python-requests.org/en/master/) to score against our model with new inputs."
   ]
  },
  {
   "cell_type": "code",
   "execution_count": 2,
   "metadata": {
    "collapsed": false
   },
   "outputs": [
    {
     "data": {
      "text/plain": [
       "[{'name': 'Iris-Setosa', 'value': 93.48},\n",
       " {'name': 'Iris-Versicolour', 'value': 0.01},\n",
       " {'name': 'Iris-Virginica', 'value': 6.5}]"
      ]
     },
     "execution_count": 2,
     "metadata": {},
     "output_type": "execute_result"
    }
   ],
   "source": [
    "import requests, json\n",
    "\n",
    "BASE_URL = \"http://localhost:5000\"\n",
    "\n",
    "input_data = {\"sepalLength\": 5.2, \n",
    "              \"sepalWidth\": 4.5, \n",
    "              \"petalLength\": 1.4, \n",
    "              \"petalWidth\": 4.2}\n",
    "\n",
    "response = requests.post(\"{}/predict\".format(BASE_URL), json = input_data)\n",
    "\n",
    "response.json()"
   ]
  },
  {
   "cell_type": "code",
   "execution_count": null,
   "metadata": {
    "collapsed": true
   },
   "outputs": [],
   "source": []
  }
 ],
 "metadata": {
  "kernelspec": {
   "display_name": "env",
   "language": "python",
   "name": "env"
  },
  "language_info": {
   "codemirror_mode": {
    "name": "ipython",
    "version": 3
   },
   "file_extension": ".py",
   "mimetype": "text/x-python",
   "name": "python",
   "nbconvert_exporter": "python",
   "pygments_lexer": "ipython3",
   "version": "3.6.5"
  }
 },
 "nbformat": 4,
 "nbformat_minor": 2
}
